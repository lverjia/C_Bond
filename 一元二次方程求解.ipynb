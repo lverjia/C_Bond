{
 "cells": [
  {
   "cell_type": "code",
   "execution_count": 5,
   "metadata": {},
   "outputs": [
    {
     "name": "stdout",
     "output_type": "stream",
     "text": [
      "请输入二次项的系数：6.25\n",
      "请输入一次项的系数：-3.75\n",
      "请输入常数项：-8.75\n",
      "此方程有两个解！\n",
      "(59.40060787395978, -35.96310787395978)\n"
     ]
    }
   ],
   "source": [
    "import math\n",
    "\n",
    "def func(a,b,c):\n",
    "    if (b*b - 4*a*c) < 0:\n",
    "        print(\"此方程无解！\")\n",
    "    elif (b*b - 4*a*c) == 0:\n",
    "        print('此方程有一个解！')\n",
    "        return (0-b+math.sqrt(b*b - 4*a*c))/2*a\n",
    "    else:\n",
    "        print('此方程有两个解！')\n",
    "        return (0 - b + math.sqrt(b*b - 4*a*c))/2*a,(0 - b - math.sqrt(b*b - 4*a*c))/2*a\n",
    "\n",
    "\n",
    "\n",
    "if __name__ == '__main__':\n",
    "    a = eval(input(\"请输入二次项的系数：\"))\n",
    "    b = eval(input(\"请输入一次项的系数：\"))\n",
    "    c = eval(input(\"请输入常数项：\"))\n",
    "    list = func(a,b,c)\n",
    "    print(list)\n"
   ]
  },
  {
   "cell_type": "code",
   "execution_count": null,
   "metadata": {},
   "outputs": [],
   "source": []
  }
 ],
 "metadata": {
  "kernelspec": {
   "display_name": "Python 3",
   "language": "python",
   "name": "python3"
  },
  "language_info": {
   "codemirror_mode": {
    "name": "ipython",
    "version": 3
   },
   "file_extension": ".py",
   "mimetype": "text/x-python",
   "name": "python",
   "nbconvert_exporter": "python",
   "pygments_lexer": "ipython3",
   "version": "3.8.5"
  }
 },
 "nbformat": 4,
 "nbformat_minor": 4
}
